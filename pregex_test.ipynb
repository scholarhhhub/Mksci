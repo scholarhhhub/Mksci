{
 "cells": [
  {
   "cell_type": "code",
   "execution_count": 1,
   "metadata": {},
   "outputs": [],
   "source": [
    "from pregex.classes import AnyLetter, AnyDigit, AnyFrom\n",
    "from pregex.quantifiers import Optional, AtLeastAtMost\n",
    "from pregex.operators import Either\n",
    "from pregex.groups import Capture\n",
    "from pregex.pre import Pregex\n",
    "\n",
    "# Define main sub-patterns.\n",
    "http_protocol = Optional(\"http\" + Optional('s') + \"://\")\n",
    "\n",
    "www = Optional(\"www.\")\n",
    "\n",
    "any_alphanum = AnyLetter() | AnyDigit()\n",
    "\n",
    "domain_name = \\\n",
    "    any_alphanum + \\\n",
    "    AtLeastAtMost(any_alphanum | AnyFrom(\"-\", \".\"), min=1, max=61) + \\\n",
    "    any_alphanum\n",
    "\n",
    "tld = \".\" + Either(\"com\", \"org\")\n",
    "\n",
    "ip_octet = AtLeastAtMost(AnyDigit(), min=1, max=3)\n",
    "\n",
    "port_number = 4 * AnyDigit()\n",
    "\n",
    "# Combine sub-patterns together.\n",
    "pre: Pregex = \\\n",
    "    http_protocol + \\\n",
    "    Either(\n",
    "        www + Capture(domain_name) + tld,\n",
    "        3 * (ip_octet + \".\") + ip_octet + \":\" + port_number\n",
    "    )"
   ]
  },
  {
   "cell_type": "code",
   "execution_count": 3,
   "metadata": {},
   "outputs": [],
   "source": [
    "regex = pre.get_pattern()"
   ]
  },
  {
   "cell_type": "code",
   "execution_count": 5,
   "metadata": {},
   "outputs": [
    {
     "data": {
      "text/plain": [
       "'(?:https?:\\\\/\\\\/)?(?:www\\\\.)?([A-Za-z\\\\d][\\\\d\\\\-a-z.A-Z]{1,61}[A-Za-z\\\\d])\\\\.(?:com|org)|(?:\\\\d{1,3}\\\\.){3}\\\\d{1,3}:\\\\d{4}'"
      ]
     },
     "execution_count": 5,
     "metadata": {},
     "output_type": "execute_result"
    }
   ],
   "source": [
    "regex"
   ]
  },
  {
   "cell_type": "code",
   "execution_count": 6,
   "metadata": {},
   "outputs": [],
   "source": [
    "\n",
    "text = \"text--192.168.1.1:8000--text--http://www.wikipedia.orghttps://youtube.com--text\"\n",
    "\n",
    "matches = pre.get_matches(text)\n"
   ]
  },
  {
   "cell_type": "code",
   "execution_count": 7,
   "metadata": {},
   "outputs": [
    {
     "data": {
      "text/plain": [
       "['192.168.1.1:8000', 'http://www.wikipedia.org', 'https://youtube.com']"
      ]
     },
     "execution_count": 7,
     "metadata": {},
     "output_type": "execute_result"
    }
   ],
   "source": [
    "matches"
   ]
  }
 ],
 "metadata": {
  "kernelspec": {
   "display_name": "Python 3.9.13 ('mksci')",
   "language": "python",
   "name": "python3"
  },
  "language_info": {
   "codemirror_mode": {
    "name": "ipython",
    "version": 3
   },
   "file_extension": ".py",
   "mimetype": "text/x-python",
   "name": "python",
   "nbconvert_exporter": "python",
   "pygments_lexer": "ipython3",
   "version": "3.9.13"
  },
  "orig_nbformat": 4,
  "vscode": {
   "interpreter": {
    "hash": "6b9184bc6e53211a03b39a8fed4c17336ef55e8eba6d09b01482b2aeea51f3e3"
   }
  }
 },
 "nbformat": 4,
 "nbformat_minor": 2
}
